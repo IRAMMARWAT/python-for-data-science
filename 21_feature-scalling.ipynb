{
 "cells": [
  {
   "cell_type": "markdown",
   "id": "32965fdf",
   "metadata": {},
   "source": [
    "## Feature Scaling \n",
    "\n",
    "Feature scaling is a preprocessing technique used to standardize or normalize the range of independent features (variables) in a dataset. It ensures that all features contribute equally to model performance by bringing them to a similar scale.\n",
    "\n",
    "\n",
    "## Why is Feature Scaling Important? \n",
    "\n",
    "1.Improves Model Performance – Many algorithms (like KNN, SVM, and gradient descent-based models) perform better when features are on the same scale.\n",
    "\n",
    "2.Faster Convergence – Optimization algorithms (e.g., in neural networks) converge faster when features are scaled.\n",
    "\n",
    "3.Prevents Dominance – Prevents features with larger magnitudes from dominating those with smaller magnitudes.\n",
    "\n",
    "4.Distance-Based Algorithms – Essential for distance-based models (e.g., K-Means, KNN) as they rely on Euclidean distance. \n",
    "**\n",
    "## Four Methods of Feature Scaling **\n",
    "\n",
    "## Standardization (Z-Score Normalization):\n",
    "\n",
    "Transforms data to have a mean of 0 and standard deviation of \n",
    "\n",
    "# Formula:X \n",
    "new\n",
    "​\n",
    " = \n",
    "σ\n",
    "X−μ \n",
    "**\n",
    "## 2. Min-Max Scaling (Normalization**) \n",
    "\n",
    "Scales data to a fixed range (usually [0, 1]). \n",
    "\n",
    "Formula: Xnew =\n",
    "X\n",
    "−\n",
    "X\n",
    "m\n",
    "i\n",
    "n\n",
    "X\n",
    "m\n",
    "a\n",
    "x\n",
    "−\n",
    "X\n",
    "m\n",
    "i\n",
    "n\n",
    "X \n",
    "new\n",
    "​\n",
    " = \n",
    "X \n",
    "max\n",
    "​\n",
    " −X \n",
    "min\n",
    "​\n",
    " \n",
    "X−X \n",
    "min\n",
    "​\n",
    "## 3. Robust Scaling **\n",
    "\n",
    "Uses median and interquartile range (IQR) to handle outliers. \n",
    "\n",
    "Formula: \n",
    "X\n",
    "n\n",
    "e\n",
    "w\n",
    "=\n",
    "X\n",
    "−\n",
    "Median\n",
    "I\n",
    "Q\n",
    "R\n",
    "X \n",
    "new\n",
    "​\n",
    " = \n",
    "IQR\n",
    "X−Median\n",
    "​\n",
    "\n",
    "## 4. Logrithmic scaling\n",
    "\n",
    "Scales each feature by its maximum absolute value (range: [-1, 1]). \n",
    "\n",
    "Formula: \n",
    "X\n",
    "n\n",
    "e\n",
    "w\n",
    "=\n",
    "X\n",
    "∣\n",
    "X\n",
    "m\n",
    "a\n",
    "x\n",
    "∣\n",
    "X \n",
    "new\n",
    "​\n",
    " = \n",
    "∣X \n",
    "max\n",
    "​\n",
    " ∣\n",
    "X\n",
    "​\n",
    "\n",
    "These methods help improve model accuracy, training speed, and reliability. The choice depends on data distribution and model requirements.\n",
    " \n",
    "​\n",
    "\n"
   ]
  },
  {
   "cell_type": "markdown",
   "id": "c436993c",
   "metadata": {},
   "source": [
    "its a machine learning library"
   ]
  },
  {
   "cell_type": "code",
   "execution_count": null,
   "id": "035c9fab",
   "metadata": {},
   "outputs": [],
   "source": [
    "pip install scikit-learn"
   ]
  },
  {
   "cell_type": "markdown",
   "id": "ac77954a",
   "metadata": {},
   "source": [
    "## 1. min max scaling"
   ]
  },
  {
   "cell_type": "code",
   "execution_count": 4,
   "id": "6a1ac8af",
   "metadata": {},
   "outputs": [
    {
     "name": "stdout",
     "output_type": "stream",
     "text": [
      "   value\n",
      "0     10\n",
      "1     20\n",
      "2     30\n",
      "3     40\n",
      "4     50\n"
     ]
    }
   ],
   "source": [
    "import pandas as pd \n",
    "from sklearn.preprocessing import MinMaxScaler \n",
    "\n",
    "# sample data \n",
    "data = {\"value\": [10, 20, 30, 40, 50]} \n",
    "df = pd.DataFrame(data)\n",
    "print(df.head())"
   ]
  },
  {
   "cell_type": "code",
   "execution_count": 5,
   "id": "b3925836",
   "metadata": {},
   "outputs": [
    {
     "name": "stdout",
     "output_type": "stream",
     "text": [
      "   value\n",
      "0   0.00\n",
      "1   0.25\n",
      "2   0.50\n",
      "3   0.75\n",
      "4   1.00\n"
     ]
    }
   ],
   "source": [
    "scaler = MinMaxScaler()\n",
    "df_scaled = pd.DataFrame(scaler.fit_transform(df), columns=df.columns)\n",
    "print(df_scaled)"
   ]
  },
  {
   "cell_type": "markdown",
   "id": "d42af6ca",
   "metadata": {},
   "source": [
    "## 2. Standard Scaler or Z-score normalization"
   ]
  },
  {
   "cell_type": "code",
   "execution_count": 6,
   "id": "5a20e6ed",
   "metadata": {},
   "outputs": [
    {
     "name": "stdout",
     "output_type": "stream",
     "text": [
      "   value\n",
      "0     10\n",
      "1     20\n",
      "2     30\n",
      "3     40\n",
      "4     50\n",
      "      value\n",
      "0 -1.414214\n",
      "1 -0.707107\n",
      "2  0.000000\n",
      "3  0.707107\n",
      "4  1.414214\n"
     ]
    }
   ],
   "source": [
    "from sklearn.preprocessing import StandardScaler\n",
    "\n",
    "# sample data\n",
    "data = {\"value\": [10, 20, 30, 40, 50]}\n",
    "df = pd.DataFrame(data)\n",
    "print(df.head())\n",
    "\n",
    "# apply standard scaler\n",
    "scaler_std = StandardScaler()\n",
    "df_standard_scaled = pd.DataFrame(scaler_std.fit_transform(df), columns=df.columns)\n",
    "print(df_standard_scaled)"
   ]
  },
  {
   "cell_type": "markdown",
   "id": "4eec4489",
   "metadata": {},
   "source": [
    "## 3. Robust scaler"
   ]
  },
  {
   "cell_type": "code",
   "execution_count": 7,
   "id": "8372c256",
   "metadata": {},
   "outputs": [
    {
     "name": "stdout",
     "output_type": "stream",
     "text": [
      "   value\n",
      "0   -1.0\n",
      "1   -0.5\n",
      "2    0.0\n",
      "3    0.5\n",
      "4    1.0\n"
     ]
    }
   ],
   "source": [
    "from sklearn.preprocessing import RobustScaler\n",
    "\n",
    "# apply robust scaler\n",
    "scaler_robust = RobustScaler()\n",
    "df_robust_scaled = pd.DataFrame(scaler_robust.fit_transform(df), columns=df.columns)\n",
    "print(df_robust_scaled)"
   ]
  },
  {
   "cell_type": "markdown",
   "id": "878991db",
   "metadata": {},
   "source": [
    "## 4. Logrithmic scaling / Normalization"
   ]
  },
  {
   "cell_type": "code",
   "execution_count": 8,
   "id": "5c48b48b",
   "metadata": {},
   "outputs": [
    {
     "name": "stdout",
     "output_type": "stream",
     "text": [
      "      value\n",
      "0  2.397895\n",
      "1  3.044522\n",
      "2  3.433987\n",
      "3  3.713572\n",
      "4  3.931826\n"
     ]
    }
   ],
   "source": [
    "import numpy as np\n",
    "\n",
    "# apply logarithmic scaling\n",
    "df_log_scaled = pd.DataFrame(np.log1p(df), columns=df.columns)\n",
    "print(df_log_scaled)"
   ]
  },
  {
   "cell_type": "code",
   "execution_count": 9,
   "id": "074b2a88",
   "metadata": {},
   "outputs": [],
   "source": [
    "import seaborn as sns "
   ]
  },
  {
   "cell_type": "code",
   "execution_count": 11,
   "id": "d530ea25",
   "metadata": {},
   "outputs": [
    {
     "data": {
      "image/png": "[encoded data removed]",
      "text/plain": [
       "<Figure size 640x480 with 1 Axes>"
      ]
     },
     "metadata": {},
     "output_type": "display_data"
    }
   ],
   "source": [
    "import matplotlib.pyplot as plt\n",
    "\n",
    "sns.boxplot(data=[df['value'], df_scaled['value'], df_standard_scaled['value'], df_robust_scaled['value'], df_log_scaled['value']])\n",
    "plt.xticks([0, 1, 2, 3, 4], ['Original', 'MinMax', 'Standard', 'Robust', 'Log'])\n",
    "plt.ylabel('Value')\n",
    "plt.title('Boxplot of Different Scaling Methods')\n",
    "plt.show()"
   ]
  },
  {
   "cell_type": "markdown",
   "id": "08b0f735",
   "metadata": {},
   "source": [
    "## Feature Encoding"
   ]
  },
  {
   "cell_type": "markdown",
   "id": "63d52ec5",
   "metadata": {},
   "source": [
    "Feature Encoding is the process of converting categorical data into numerical format so that machine learning algorithms can process it."
   ]
  },
  {
   "cell_type": "markdown",
   "id": "1b3a4d84",
   "metadata": {},
   "source": [
    "# common Methods:"
   ]
  },
  {
   "cell_type": "code",
   "execution_count": null,
   "id": "e8d617a1",
   "metadata": {},
   "outputs": [],
   "source": [
    "1.Label Encoding\n",
    "\n",
    "2. One-Hot Encoding\n",
    "\n",
    "3.Ordinal Encoding\n",
    "\n",
    "4.Binary Encoding\n",
    "\n",
    "5.Frequency Encoding\n",
    "\n",
    "6.Target Encoding (Mean Encoding)\n",
    "\n",
    "7.Hashing Encoding"
   ]
  },
  {
   "cell_type": "markdown",
   "id": "58ad4a16",
   "metadata": {},
   "source": [
    "## One-Hot Encoding"
   ]
  },
  {
   "cell_type": "code",
   "execution_count": 13,
   "id": "802ef55c",
   "metadata": {},
   "outputs": [
    {
     "name": "stdout",
     "output_type": "stream",
     "text": [
      "   color\n",
      "0    red\n",
      "1   blue\n",
      "2  green\n",
      "3  white\n",
      "4  black\n",
      "   color_black  color_blue  color_green  color_red  color_white\n",
      "0        False       False        False       True        False\n",
      "1        False        True        False      False        False\n",
      "2        False       False         True      False        False\n",
      "3        False       False        False      False         True\n",
      "4         True       False        False      False        False\n"
     ]
    }
   ],
   "source": [
    "import pandas as pd\n",
    "\n",
    "# sample data\n",
    "data = {\"color\": [\"red\", \"blue\", \"green\", \"white\", \"black\"]}\n",
    "df = pd.DataFrame(data)\n",
    "print(df)\n",
    "\n",
    "# One-Hot Encoding\n",
    "encoded_data = pd.get_dummies(df, columns=[\"color\"])\n",
    "print(encoded_data)"
   ]
  },
  {
   "cell_type": "markdown",
   "id": "d5d9d245",
   "metadata": {},
   "source": [
    "## 2. Label encoding"
   ]
  },
  {
   "cell_type": "code",
   "execution_count": 14,
   "id": "8e736ec1",
   "metadata": {},
   "outputs": [
    {
     "name": "stdout",
     "output_type": "stream",
     "text": [
      "   color  color_label\n",
      "0    red            3\n",
      "1   blue            1\n",
      "2  green            2\n",
      "3  white            4\n",
      "4  black            0\n"
     ]
    }
   ],
   "source": [
    "from sklearn.preprocessing import LabelEncoder\n",
    "\n",
    "# create label encoder instance\n",
    "label_encoder = LabelEncoder()\n",
    "\n",
    "# fit and transform the color column\n",
    "df['color_label'] = label_encoder.fit_transform(df['color'])\n",
    "print(df)"
   ]
  },
  {
   "cell_type": "markdown",
   "id": "ae83bf2b",
   "metadata": {},
   "source": [
    "## 3.Ordinal encoding"
   ]
  },
  {
   "cell_type": "code",
   "execution_count": 15,
   "id": "7b902e89",
   "metadata": {},
   "outputs": [
    {
     "name": "stdout",
     "output_type": "stream",
     "text": [
      "   color  color_label  color_ordinal\n",
      "0    red            3              3\n",
      "1   blue            1              1\n",
      "2  green            2              2\n",
      "3  white            4              4\n",
      "4  black            0              0\n"
     ]
    }
   ],
   "source": [
    "# Define the order for ordinal encoding\n",
    "color_order = ['black', 'blue', 'green', 'red', 'white']\n",
    "\n",
    "# Create a mapping dictionary\n",
    "ordinal_mapping = {color: idx for idx, color in enumerate(color_order)}\n",
    "\n",
    "# Apply ordinal encoding\n",
    "df['color_ordinal'] = df['color'].map(ordinal_mapping)\n",
    "print(df)"
   ]
  },
  {
   "cell_type": "code",
   "execution_count": null,
   "id": "eb98dc1a",
   "metadata": {},
   "outputs": [],
   "source": []
  }
 ],
 "metadata": {
  "kernelspec": {
   "display_name": "Python 3",
   "language": "python",
   "name": "python3"
  },
  "language_info": {
   "codemirror_mode": {
    "name": "ipython",
    "version": 3
   },
   "file_extension": ".py",
   "mimetype": "text/x-python",
   "name": "python",
   "nbconvert_exporter": "python",
   "pygments_lexer": "ipython3",
   "version": "3.12.4"
  }
 },
 "nbformat": 4,
 "nbformat_minor": 5
}
