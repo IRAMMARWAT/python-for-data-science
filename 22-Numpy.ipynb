{
 "cells": [
  {
   "cell_type": "markdown",
   "id": "57c17b11",
   "metadata": {},
   "source": [
    "## Numpy introduction"
   ]
  },
  {
   "cell_type": "code",
   "execution_count": 11,
   "id": "e14f46e3",
   "metadata": {},
   "outputs": [
    {
     "name": "stdout",
     "output_type": "stream",
     "text": [
      "Requirement already satisfied: numpy in c:\\users\\hp\\appdata\\local\\programs\\python\\python312\\lib\\site-packages (2.0.0)\n",
      "Note: you may need to restart the kernel to use updated packages.\n"
     ]
    }
   ],
   "source": [
    "pip install numpy"
   ]
  },
  {
   "cell_type": "code",
   "execution_count": 12,
   "id": "37211d46",
   "metadata": {},
   "outputs": [],
   "source": [
    "import numpy as np"
   ]
  },
  {
   "cell_type": "markdown",
   "id": "77a203c9",
   "metadata": {},
   "source": [
    "# what is an aray?"
   ]
  },
  {
   "cell_type": "markdown",
   "id": "d28cefbb",
   "metadata": {},
   "source": [
    "In NumPy, an array is a grid of values (of the same type) indexed by non-negative integers. Here's a simple definition and example:"
   ]
  },
  {
   "cell_type": "markdown",
   "id": "f4c4d827",
   "metadata": {},
   "source": [
    "# Definition: \n",
    "\n",
    "A NumPy array (ndarray) is a multi-dimensional, homogeneous container for numerical data."
   ]
  },
  {
   "cell_type": "markdown",
   "id": "a8764310",
   "metadata": {},
   "source": [
    "# Short Example: \n",
    "\n",
    "import numpy as np\n",
    "\n",
    "# Create a simple 1D array \n",
    "\n",
    "arr = np.array([1, 2, 3, 4]) \n",
    "\n",
    "print(arr)  # Output: [1 2 3 4]"
   ]
  },
  {
   "cell_type": "code",
   "execution_count": 13,
   "id": "4d1ba195",
   "metadata": {},
   "outputs": [
    {
     "name": "stdout",
     "output_type": "stream",
     "text": [
      "[1 2 3 4 5]\n"
     ]
    }
   ],
   "source": [
    "arr = np.array([1, 2, 3, 4, 5])\n",
    "print(arr)"
   ]
  },
  {
   "cell_type": "markdown",
   "id": "53dcba9b",
   "metadata": {},
   "source": [
    "# Key Features: \n",
    "\n",
    " - Fixed-size, efficient storage.\n",
    "\n",
    " - Supports mathematical operations on entire arrays.\n",
    "\n",
    " - Can be 1D (vector), 2D (matrix), or n-dimensional. \n",
    "\n",
    " Would you like a specific type of array (e.g., zeros, ones, or a range)?"
   ]
  },
  {
   "cell_type": "code",
   "execution_count": 14,
   "id": "0c1c9737",
   "metadata": {},
   "outputs": [
    {
     "data": {
      "text/plain": [
       "array([0, 1, 2, 3, 4, 5])"
      ]
     },
     "execution_count": 14,
     "metadata": {},
     "output_type": "execute_result"
    }
   ],
   "source": [
    "import numpy as np\n",
    "np.arange(6)"
   ]
  },
  {
   "cell_type": "code",
   "execution_count": 15,
   "id": "071c493e",
   "metadata": {},
   "outputs": [
    {
     "name": "stdout",
     "output_type": "stream",
     "text": [
      "1D array: [10 20 30 40 50]\n",
      "2D array:\n",
      " [[1 2 3]\n",
      " [4 5 6]]\n"
     ]
    }
   ],
   "source": [
    "# One-dimensional array\n",
    "one_d_array = np.array([10, 20, 30, 40, 50])\n",
    "print(\"1D array:\", one_d_array)\n",
    "\n",
    "# Two-dimensional array\n",
    "two_d_array = np.array([[1, 2, 3], [4, 5, 6]])\n",
    "print(\"2D array:\\n\", two_d_array)"
   ]
  },
  {
   "cell_type": "markdown",
   "id": "f5e8f65c",
   "metadata": {},
   "source": [
    "why do we have 1D, 2D, and 3D arrays and where we need them in data science?"
   ]
  },
  {
   "cell_type": "code",
   "execution_count": null,
   "id": "598814f4",
   "metadata": {},
   "outputs": [],
   "source": [
    "In data science and programming, 1D, 2D, and 3D arrays (or higher-dimensional arrays) are used to represent and manipulate data efficiently.\n",
    "\n",
    " Here's why they exist and where they are applied: \n",
    " "
   ]
  },
  {
   "cell_type": "markdown",
   "id": "c83c6883",
   "metadata": {},
   "source": [
    "# 1. 1D Arrays (Vectors) \n",
    "\n",
    "- What? A single row or column of elements (e.g., [1, 2, 3]).\n",
    "\n",
    "- Why? Simple, memory-efficient storage for linear data. \n",
    "\n",
    "- Data Science Use Cases: \n",
    "\n",
    "- Storing feature values (e.g., a single column in a dataset like [age_1, age_2, age_3]).\n",
    "\n",
    "- Labels/target variables in supervised learning (e.g., y = [0, 1, 0] for binary classification).\n",
    "\n",
    "- Time-series data (e.g., stock prices over time)."
   ]
  },
  {
   "cell_type": "code",
   "execution_count": null,
   "id": "4e903da5",
   "metadata": {},
   "outputs": [],
   "source": [
    "# example \n",
    "\n",
    "import numpy as np\n",
    "arr_1d = np.array([1, 2, 3])  # 1D array"
   ]
  },
  {
   "cell_type": "markdown",
   "id": "86e07357",
   "metadata": {},
   "source": [
    " 2. 2D Arrays (Matrices)\n",
    "   \n",
    "- What? A grid of rows and columns (e.g., a table).\n",
    "\n",
    "- Why? Represents structured data with relationships between rows/columns.\n",
    "\n",
    "- Data Science Use Cases:\n",
    "\n",
    "- Tabular datasets (e.g., CSV/Excel files where rows = samples, columns = features).\n",
    "\n",
    "- Image data (grayscale images as height × width matrices).\n",
    "\n",
    "- Weight matrices in neural networks."
   ]
  },
  {
   "cell_type": "code",
   "execution_count": null,
   "id": "493a5fbc",
   "metadata": {},
   "outputs": [],
   "source": [
    "# example \n",
    "\n",
    "arr_2d = np.array([[1, 2, 3], [4, 5, 6]])  # 2D array (2x3)"
   ]
  },
  {
   "cell_type": "markdown",
   "id": "1677ef2c",
   "metadata": {},
   "source": [
    "3. 3D Arrays (Tensors) \n",
    "\n",
    "- What? A \"cube\" of data (multiple 2D arrays stacked).\n",
    "\n",
    "- Why? Captures complex structures like color images or sequential data.\n",
    "\n",
    "- Data Science Use Cases:\n",
    "\n",
    "- Color Images: 3D shape = (height, width, channels) (e.g., RGB = 3 channels).\n",
    "\n",
    "- Time-series + Features: 3D shape = (samples, timesteps, features) (used in RNNs).\n",
    "\n",
    "- Video Data: 3D shape = (frames, height, width)."
   ]
  },
  {
   "cell_type": "code",
   "execution_count": null,
   "id": "4e607eb1",
   "metadata": {},
   "outputs": [],
   "source": [
    "arr_3d = np.array([[[1, 2], [3, 4]], [[5, 6], [7, 8]]])  # 3D array (2x2x2)"
   ]
  },
  {
   "cell_type": "markdown",
   "id": "50e6e3e2",
   "metadata": {},
   "source": [
    "Higher-Dimensional Arrays (4D+) \n",
    "\n",
    "- Use Cases:\n",
    "\n",
    "- Batch Processing: 4D = (batch_size, height, width, channels) (common in deep learning).\n",
    "\n",
    "- Medical Imaging: 3D MRI scans + time = 4D."
   ]
  },
  {
   "cell_type": "markdown",
   "id": "0052bb3a",
   "metadata": {},
   "source": [
    "Key Differences \n",
    "\n",
    "Dimension\t    Structure       \tExample Use Case \n",
    "---------------\n",
    "1D\tVector     \tFeature columns,     time-series \n",
    "-----------------\n",
    "2D\tMatrix  \tTabular data,        grayscale images \n",
    "--------------------\n",
    "3D\tTensor\t    Color images,         RNN input \n",
    "------------------------\n",
    "4D+\t             Batch of tensors\t   CNN input (batches of images)\n"
   ]
  },
  {
   "cell_type": "markdown",
   "id": "7056b018",
   "metadata": {},
   "source": [
    "Why Does This Matter in Data Science? \n",
    "\n",
    "1. Efficiency: Libraries like NumPy/PyTorch optimize operations based on array dimensions.\n",
    "\n",
    "2.Model Inputs: Machine learning models expect specific shapes (e.g., CNNs need 3D/4D for images).\n",
    "\n",
    "3.Data Representation: Higher dimensions capture real-world complexity (e.g., videos = 3D + time).\n",
    "\n",
    "Example Workflow: \n",
    "\n",
    "- 1D: Preprocess a column of data → [1.2, 3.4, 5.6].\n",
    "\n",
    "- 2D: Feed a CSV → [[1, 2, 3], [4, 5, 6]] to a model.\n",
    "\n",
    "- 3D: Train a CNN on RGB images → (256, 256, 3) tensors. \n",
    "-----------------------------------------------------------------\n",
    "\n",
    "\n",
    "TL;DR \n",
    "\n",
    "1D: Single-axis data (lists/vectors).\n",
    "\n",
    "2D: Tables, matrices, grayscale images.\n",
    "\n",
    "3D+: Color images, videos, batches of data.\n",
    "\n",
    "Understanding dimensions helps structure data for algorithms (e.g., Scikit-learn, TensorFlow). Would you like a practical example in a specific library (e.g., NumPy or Pandas)?"
   ]
  },
  {
   "cell_type": "code",
   "execution_count": null,
   "id": "619da9f1",
   "metadata": {},
   "outputs": [
    {
     "data": {
      "text/plain": [
       "array([[1., 0., 0., 0., 0.],\n",
       "       [0., 1., 0., 0., 0.],\n",
       "       [0., 0., 1., 0., 0.],\n",
       "       [0., 0., 0., 1., 0.],\n",
       "       [0., 0., 0., 0., 1.]])"
      ]
     },
     "execution_count": 17,
     "metadata": {},
     "output_type": "execute_result"
    }
   ],
   "source": [
    "identity = np.eye(5)   # creating an identity matrix\n",
    "identity"
   ]
  },
  {
   "cell_type": "code",
   "execution_count": 18,
   "id": "7421fca4",
   "metadata": {},
   "outputs": [
    {
     "data": {
      "text/plain": [
       "dtype('float64')"
      ]
     },
     "execution_count": 18,
     "metadata": {},
     "output_type": "execute_result"
    }
   ],
   "source": [
    "identity .dtype"
   ]
  },
  {
   "cell_type": "markdown",
   "id": "23a3b42e",
   "metadata": {},
   "source": [
    "array atributes"
   ]
  },
  {
   "cell_type": "code",
   "execution_count": 19,
   "id": "40933832",
   "metadata": {},
   "outputs": [
    {
     "name": "stdout",
     "output_type": "stream",
     "text": [
      "arr.ndim (number of dimensions): 1\n",
      "arr.shape (shape of array): (5,)\n",
      "arr.size (total number of elements): 5\n",
      "arr.dtype (data type of elements): int64\n",
      "arr.itemsize (size of each element in bytes): 8\n",
      "arr.nbytes (total bytes consumed): 40\n"
     ]
    }
   ],
   "source": [
    "# Display attributes of the array 'arr'\n",
    "print(\"arr.ndim (number of dimensions):\", arr.ndim)\n",
    "print(\"arr.shape (shape of array):\", arr.shape)\n",
    "print(\"arr.size (total number of elements):\", arr.size)\n",
    "print(\"arr.dtype (data type of elements):\", arr.dtype)\n",
    "print(\"arr.itemsize (size of each element in bytes):\", arr.itemsize)\n",
    "print(\"arr.nbytes (total bytes consumed):\", arr.nbytes)"
   ]
  },
  {
   "cell_type": "markdown",
   "id": "f4e9511e",
   "metadata": {},
   "source": [
    "Basic operation "
   ]
  },
  {
   "cell_type": "code",
   "execution_count": 20,
   "id": "c2b5d42d",
   "metadata": {},
   "outputs": [
    {
     "name": "stdout",
     "output_type": "stream",
     "text": [
      "Addition: [11 22 33 44 55]\n",
      "Subtraction: [ 9 18 27 36 45]\n",
      "Element-wise Multiplication: [ 10  40  90 160 250]\n",
      "Element-wise Division: [10. 10. 10. 10. 10.]\n"
     ]
    }
   ],
   "source": [
    "# Addition\n",
    "add_result = arr + one_d_array\n",
    "print(\"Addition:\", add_result)\n",
    "\n",
    "# Subtraction\n",
    "sub_result = one_d_array - arr\n",
    "print(\"Subtraction:\", sub_result)\n",
    "\n",
    "# Element-wise multiplication\n",
    "mul_result = arr * one_d_array\n",
    "print(\"Element-wise Multiplication:\", mul_result)\n",
    "\n",
    "# Element-wise division\n",
    "div_result = one_d_array / arr\n",
    "print(\"Element-wise Division:\", div_result)"
   ]
  },
  {
   "cell_type": "markdown",
   "id": "df607ff9",
   "metadata": {},
   "source": [
    "# Numpy (part-2)"
   ]
  },
  {
   "cell_type": "code",
   "execution_count": 21,
   "id": "ccf4ab0b",
   "metadata": {},
   "outputs": [],
   "source": [
    "import numpy as np"
   ]
  },
  {
   "cell_type": "code",
   "execution_count": 22,
   "id": "d3474247",
   "metadata": {},
   "outputs": [
    {
     "name": "stdout",
     "output_type": "stream",
     "text": [
      "[[4.9e-324 9.9e-324 1.5e-323]\n",
      " [2.0e-323 2.5e-323 3.0e-323]]\n"
     ]
    }
   ],
   "source": [
    "empty = np.empty((2, 3)) \n",
    "print(empty)"
   ]
  },
  {
   "cell_type": "code",
   "execution_count": 23,
   "id": "8c5bcd6e",
   "metadata": {},
   "outputs": [
    {
     "data": {
      "text/plain": [
       "array([0, 1, 2, 3, 4, 5])"
      ]
     },
     "execution_count": 23,
     "metadata": {},
     "output_type": "execute_result"
    }
   ],
   "source": [
    "x = np.arange(6) \n",
    "x"
   ]
  },
  {
   "cell_type": "code",
   "execution_count": 27,
   "id": "6e3c3a9c",
   "metadata": {},
   "outputs": [
    {
     "data": {
      "text/plain": [
       "array([ 0,  2,  4,  6,  8, 10, 12, 14, 16, 18, 20, 22])"
      ]
     },
     "execution_count": 27,
     "metadata": {},
     "output_type": "execute_result"
    }
   ],
   "source": [
    "# array of even numbers from 0 to 22 \n",
    "\n",
    "even = np.arange(0, 23, 2) \n",
    "even"
   ]
  },
  {
   "cell_type": "code",
   "execution_count": 28,
   "id": "cfb07a1f",
   "metadata": {},
   "outputs": [
    {
     "data": {
      "text/plain": [
       "array([ 1,  3,  5,  7,  9, 11, 13, 15, 17, 19, 21])"
      ]
     },
     "execution_count": 28,
     "metadata": {},
     "output_type": "execute_result"
    }
   ],
   "source": [
    "# array of odd numbers from 0 to 23 \n",
    "odd = np.arange(1, 23,2) \n",
    "odd"
   ]
  },
  {
   "cell_type": "code",
   "execution_count": 29,
   "id": "d4766004",
   "metadata": {},
   "outputs": [
    {
     "data": {
      "text/plain": [
       "array([ 0,  3,  6,  9, 12, 15, 18, 21])"
      ]
     },
     "execution_count": 29,
     "metadata": {},
     "output_type": "execute_result"
    }
   ],
   "source": [
    "# specific difference between numbers \n",
    "diff = np.arange(0, 23, 3) \n",
    "diff"
   ]
  },
  {
   "cell_type": "code",
   "execution_count": 30,
   "id": "f7604041",
   "metadata": {},
   "outputs": [
    {
     "data": {
      "text/plain": [
       "array([ 0.        ,  1.11111111,  2.22222222,  3.33333333,  4.44444444,\n",
       "        5.55555556,  6.66666667,  7.77777778,  8.88888889, 10.        ])"
      ]
     },
     "execution_count": 30,
     "metadata": {},
     "output_type": "execute_result"
    }
   ],
   "source": [
    "lin = np.linspace(0, 10, num=10) \n",
    "lin"
   ]
  },
  {
   "cell_type": "code",
   "execution_count": 31,
   "id": "727fa4af",
   "metadata": {},
   "outputs": [
    {
     "data": {
      "text/plain": [
       "array([ 0.,  5., 10.])"
      ]
     },
     "execution_count": 31,
     "metadata": {},
     "output_type": "execute_result"
    }
   ],
   "source": [
    "# another example of lin \n",
    "lin = np.linspace(0, 10, num=3) \n",
    "lin"
   ]
  },
  {
   "cell_type": "code",
   "execution_count": 32,
   "id": "eacfc314",
   "metadata": {},
   "outputs": [
    {
     "data": {
      "text/plain": [
       "array([1, 1])"
      ]
     },
     "execution_count": 32,
     "metadata": {},
     "output_type": "execute_result"
    }
   ],
   "source": [
    "# define the dtype of array \n",
    "\n",
    "x = np.ones(2, dtype=np.int64) \n",
    "x"
   ]
  },
  {
   "cell_type": "markdown",
   "id": "654c33b6",
   "metadata": {},
   "source": [
    "what is the difference between int32, 64,16......... \n",
    "\n",
    " what is meaning of this ? why do we use and not the other one"
   ]
  },
  {
   "cell_type": "markdown",
   "id": "b03b8a19",
   "metadata": {},
   "source": [
    "The terms int32, int64, int16, etc., refer to different sizes of integer data types in programming.\n",
    " The number (16, 32, 64) indicates how many bits the integer occupies in memory."
   ]
  },
  {
   "cell_type": "code",
   "execution_count": null,
   "id": "acac50ec",
   "metadata": {},
   "outputs": [],
   "source": []
  },
  {
   "cell_type": "code",
   "execution_count": null,
   "id": "74c57d13",
   "metadata": {
    "vscode": {
     "languageId": "julia"
    }
   },
   "outputs": [],
   "source": [
    "import pandas as pd\n",
    "\n",
    "# Key differences between int8, int16, int32, and int64 in NumPy\n",
    "\n",
    "\n",
    "data = {\n",
    "    \"Type\": [\"int8\", \"int16\", \"int32\", \"int64\"],\n",
    "    \"Bits\": [8, 16, 32, 64],\n",
    "    \"Bytes\": [1, 2, 4, 8],\n",
    "    \"Range (Signed)\": [\"-128 to 127\", \"-32,768 to 32,767\", \"-2,147,483,648 to 2,147,483,647\", \"-9,223,372,036,854,775,808 to 9,223,372,036,854,775,807\"],\n",
    "    \"Range (Unsigned)\": [\"0 to 255\", \"0 to 65,535\", \"0 to 4,294,967,295\", \"0 to 18,446,744,073,709,551,615\"],\n",
    "    \"Common Usage\": [\n",
    "        \"Small numbers, saving memory\",\n",
    "        \"Medium-range integers (e.g., audio samples)\",\n",
    "        \"Default in many languages, general use\",\n",
    "        \"Large numbers (e.g., timestamps, big calculations)\"\n",
    "    ]\n",
    "}\n",
    "\n",
    "df_types = pd.DataFrame(data)\n",
    "print(df_types)"
   ]
  },
  {
   "cell_type": "markdown",
   "id": "c991ee97",
   "metadata": {},
   "source": [
    "# Why Use Different Integer Sizes?\n",
    "1.Memory Efficiency\n",
    "\n",
    "Smaller types (e.g., int8, int16) save memory when you don’t need large numbers.\n",
    "\n",
    "Useful in embedded systems or large arrays (e.g., int8 for pixel values in images).\n",
    "\n",
    "2.Range Requirements\n",
    "\n",
    "int32 is the default in most languages (good for most calculations).\n",
    "\n",
    "int64 is needed for very large numbers (e.g., file sizes, timestamps).\n",
    "\n",
    "3.Performance Trade-offs\n",
    "\n",
    "Smaller integers may be faster on some CPUs, but modern processors optimize for 32/64-bit.\n",
    "\n",
    "Using unnecessarily large types wastes memory and bandwidth."
   ]
  },
  {
   "cell_type": "code",
   "execution_count": 34,
   "id": "02187e54",
   "metadata": {},
   "outputs": [],
   "source": [
    "import numpy as np\n",
    "\n",
    "smallNum = np.int8(100)      # 1 byte (-128 to 127)\n",
    "mediumNum = np.int32(50000)  # 4 bytes (~-2.1 billion to 2.1 billion)\n",
    "bigNum = np.int64(1e18)      # 8 bytes (~-9.2 quintillion to 9.2 quintillion)"
   ]
  },
  {
   "cell_type": "markdown",
   "id": "7175ca86",
   "metadata": {},
   "source": [
    "## when to use which \n",
    "\n",
    "Use int8/int16: For small numbers (e.g., counters, sensor readings).\n",
    "\n",
    "Use int32: Default choice for most applications.\n",
    "\n",
    "Use int64: When dealing with very large numbers (e.g., financial calculations, nanoseconds in time)."
   ]
  },
  {
   "cell_type": "markdown",
   "id": "45bd3f0d",
   "metadata": {},
   "source": [
    "## Modern Systems Default to 32/64-bit\n",
    "Most languages (Python, JavaScript) use 64-bit integers internally.\n",
    "\n",
    "In C/C++, int is usually 32-bit, while long can be 32 or 64-bit depending on the system."
   ]
  },
  {
   "cell_type": "code",
   "execution_count": 35,
   "id": "a9d9492f",
   "metadata": {},
   "outputs": [
    {
     "name": "stdout",
     "output_type": "stream",
     "text": [
      "Sorted arr: [1 2 3 4 5]\n"
     ]
    }
   ],
   "source": [
    "# Sort the array 'arr' in ascending order\n",
    "sorted_arr = np.sort(arr)\n",
    "print(\"Sorted arr:\", sorted_arr)"
   ]
  },
  {
   "cell_type": "code",
   "execution_count": 37,
   "id": "db572762",
   "metadata": {},
   "outputs": [],
   "source": [
    "a = np.array([1,2, 3, 4, 5]) \n",
    "b = np.array([6, 7, 8, 9, 10]) \n"
   ]
  },
  {
   "cell_type": "code",
   "execution_count": 40,
   "id": "0acc742d",
   "metadata": {},
   "outputs": [
    {
     "data": {
      "text/plain": [
       "array([ 1,  2,  3,  4,  5,  6,  7,  8,  9, 10])"
      ]
     },
     "execution_count": 40,
     "metadata": {},
     "output_type": "execute_result"
    }
   ],
   "source": [
    "# concatenate these arrays \n",
    "c = np.concatenate((a, b)) \n",
    "c"
   ]
  },
  {
   "cell_type": "code",
   "execution_count": 41,
   "id": "67a87811",
   "metadata": {},
   "outputs": [
    {
     "name": "stdout",
     "output_type": "stream",
     "text": [
      "[[1 2]\n",
      " [3 4]\n",
      " [5 6]\n",
      " [7 8]]\n"
     ]
    }
   ],
   "source": [
    "# Concatenate two 2D arrays along rows (axis=0)\n",
    "arr1 = np.array([[1, 2], [3, 4]])\n",
    "arr2 = np.array([[5, 6], [7, 8]])\n",
    "concatenated_2d = np.concatenate((arr1, arr2), axis=0)\n",
    "print(concatenated_2d)"
   ]
  },
  {
   "cell_type": "code",
   "execution_count": 42,
   "id": "077bf64a",
   "metadata": {},
   "outputs": [
    {
     "name": "stdout",
     "output_type": "stream",
     "text": [
      "[[1 2 5 6]\n",
      " [3 4 7 8]]\n"
     ]
    }
   ],
   "source": [
    "# Concatenate arr1 and arr2 along columns (axis=1)\n",
    "concatenated_2d_cols = np.concatenate((arr1, arr2), axis=1)\n",
    "print(concatenated_2d_cols)"
   ]
  },
  {
   "cell_type": "markdown",
   "id": "0f5a905f",
   "metadata": {},
   "source": [
    "## three Dimension array "
   ]
  },
  {
   "cell_type": "code",
   "execution_count": 43,
   "id": "0f755ab3",
   "metadata": {},
   "outputs": [
    {
     "name": "stdout",
     "output_type": "stream",
     "text": [
      "[[[ 1  2  3  4  5]\n",
      "  [ 6  7  8  9 10]]]\n",
      "Shape: (1, 2, 5)\n"
     ]
    }
   ],
   "source": [
    "# Create a three-dimensional array by stacking 'a' and 'b'\n",
    "three_d_array = np.stack([a, b]).reshape(1, 2, 5)\n",
    "print(three_d_array)\n",
    "print(\"Shape:\", three_d_array.shape)"
   ]
  },
  {
   "cell_type": "code",
   "execution_count": 44,
   "id": "aa42571c",
   "metadata": {},
   "outputs": [
    {
     "name": "stdout",
     "output_type": "stream",
     "text": [
      "[[[ 1  2  3  4]\n",
      "  [ 5  6  7  8]\n",
      "  [ 9 10 11 12]]\n",
      "\n",
      " [[13 14 15 16]\n",
      "  [17 18 19 20]\n",
      "  [21 22 23 24]]]\n",
      "Shape: (2, 3, 4)\n"
     ]
    }
   ],
   "source": [
    "import numpy as np\n",
    "\n",
    "# Create a 3D array with dimensions 2x3x4\n",
    "array_3d = np.array([\n",
    "    [[1, 2, 3, 4], [5, 6, 7, 8], [9, 10, 11, 12]],\n",
    "    [[13, 14, 15, 16], [17, 18, 19, 20], [21, 22, 23, 24]]\n",
    "])\n",
    "\n",
    "print(array_3d)\n",
    "print(\"Shape:\", array_3d.shape)  # Output: (2, 3, 4)"
   ]
  },
  {
   "cell_type": "code",
   "execution_count": 46,
   "id": "0558af23",
   "metadata": {},
   "outputs": [
    {
     "data": {
      "text/plain": [
       "5"
      ]
     },
     "execution_count": 46,
     "metadata": {},
     "output_type": "execute_result"
    }
   ],
   "source": [
    "arr.size"
   ]
  },
  {
   "cell_type": "code",
   "execution_count": 48,
   "id": "b84853d6",
   "metadata": {},
   "outputs": [
    {
     "data": {
      "text/plain": [
       "dtype('int64')"
      ]
     },
     "execution_count": 48,
     "metadata": {},
     "output_type": "execute_result"
    }
   ],
   "source": [
    "array_3d.dtype"
   ]
  },
  {
   "cell_type": "code",
   "execution_count": 50,
   "id": "f215ed18",
   "metadata": {},
   "outputs": [
    {
     "data": {
      "text/plain": [
       "(2, 3, 4)"
      ]
     },
     "execution_count": 50,
     "metadata": {},
     "output_type": "execute_result"
    }
   ],
   "source": [
    "array_3d.shape"
   ]
  },
  {
   "cell_type": "markdown",
   "id": "dd6443bc",
   "metadata": {},
   "source": [
    "# indexing and slicing "
   ]
  },
  {
   "cell_type": "code",
   "execution_count": 51,
   "id": "93acda40",
   "metadata": {},
   "outputs": [
    {
     "data": {
      "text/plain": [
       "array([1, 2, 3, 4, 5, 6, 7, 8])"
      ]
     },
     "execution_count": 51,
     "metadata": {},
     "output_type": "execute_result"
    }
   ],
   "source": [
    "a = np.array([1, 2, 3, 4, 5, 6, 7, 8]) \n",
    "a"
   ]
  },
  {
   "cell_type": "code",
   "execution_count": 52,
   "id": "c4ecd2a7",
   "metadata": {},
   "outputs": [
    {
     "name": "stdout",
     "output_type": "stream",
     "text": [
      "First element: 1\n",
      "Last element: 8\n",
      "Elements from index 2 to 4: [3 4 5]\n",
      "Every other element: [1 3 5 7]\n",
      "Reversed array: [8 7 6 5 4 3 2 1]\n"
     ]
    }
   ],
   "source": [
    "# Indexing and slicing examples with array 'a'\n",
    "\n",
    "# Access the first element\n",
    "first_element = a[0]\n",
    "print(\"First element:\", first_element)\n",
    "\n",
    "# Access the last element\n",
    "last_element = a[-1]\n",
    "print(\"Last element:\", last_element)\n",
    "\n",
    "# Slice: elements from index 2 to 5 (exclusive)\n",
    "slice_2_to_5 = a[2:5]\n",
    "print(\"Elements from index 2 to 4:\", slice_2_to_5)\n",
    "\n",
    "# Slice: every other element\n",
    "every_other = a[::2]\n",
    "print(\"Every other element:\", every_other)\n",
    "\n",
    "# Reverse the array\n",
    "reversed_a = a[::-1]\n",
    "print(\"Reversed array:\", reversed_a)"
   ]
  }
 ],
 "metadata": {
  "kernelspec": {
   "display_name": "Python 3",
   "language": "python",
   "name": "python3"
  },
  "language_info": {
   "codemirror_mode": {
    "name": "ipython",
    "version": 3
   },
   "file_extension": ".py",
   "mimetype": "text/x-python",
   "name": "python",
   "nbconvert_exporter": "python",
   "pygments_lexer": "ipython3",
   "version": "3.12.4"
  }
 },
 "nbformat": 4,
 "nbformat_minor": 5
}
